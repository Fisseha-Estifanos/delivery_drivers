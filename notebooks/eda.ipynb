{
 "cells": [
  {
   "cell_type": "code",
   "execution_count": 1,
   "metadata": {},
   "outputs": [],
   "source": [
    "# necessary imports\n",
    "import sys\n",
    "import pandas as pd\n",
    "import dvc.api\n",
    "import mlflow\n",
    "import warnings\n",
    "warnings.filterwarnings('ignore')"
   ]
  },
  {
   "cell_type": "code",
   "execution_count": 2,
   "metadata": {},
   "outputs": [
    {
     "name": "stdout",
     "output_type": "stream",
     "text": [
      "--> <Logger dataCleaner (WARNING)>\n",
      "logger <Logger dataCleaner (DEBUG)> created at path: ../logs/cleaner_root.log\n",
      "Data cleaner in action\n",
      "--> <Logger dataVisualizer (WARNING)>\n",
      "logger <Logger dataVisualizer (DEBUG)> created at path: ../logs/visualizer_root.log\n",
      "Data visualizer in action\n",
      "--> <Logger generalHelper (WARNING)>\n",
      "logger <Logger generalHelper (DEBUG)> created at path: ../logs/general_helper_root.log\n",
      "General helper in action\n"
     ]
    },
    {
     "data": {
      "text/plain": [
       "<ActiveRun: >"
      ]
     },
     "execution_count": 2,
     "metadata": {},
     "output_type": "execute_result"
    }
   ],
   "source": [
    "# adding and setting up helper scripts\n",
    "sys.path.insert(1, './../scripts/')\n",
    "import defaults as defs\n",
    "import dataCleaner as dc\n",
    "import dataVisualizer as dv\n",
    "import generalHelper as hp\n",
    "\n",
    "cleaner = dc.dataCleaner('EDA notebook')\n",
    "visualizer = dv.dataVisualizer('EDA notebook')\n",
    "helper = hp.generalHelper('EDA notebook')\n",
    "\n",
    "# mlflow setups\n",
    "# mlflow.set_experiment('Eda runs')\n",
    "# mlflow.start_run()"
   ]
  },
  {
   "cell_type": "code",
   "execution_count": 3,
   "metadata": {},
   "outputs": [],
   "source": [
    "# version of the data\n",
    "# v1: raw-data\n",
    "version= 'v1'\n",
    "\n",
    "# set up the data url\n",
    "data1= dvc.api.get_url(path= defs.data1,         \t # path to the data file\n",
    "\t\t               repo= defs.repo_for_nb,       # path to the repository\n",
    "\t\t               rev= version)                 # version of the data\n",
    "\n",
    "data2= dvc.api.get_url(path= defs.data2,         \t # path to the data file\n",
    "\t\t               repo= defs.repo_for_nb,       # path to the repository\n",
    "\t\t               rev= version)                 # version of the data"
   ]
  },
  {
   "cell_type": "code",
   "execution_count": 4,
   "metadata": {},
   "outputs": [
    {
     "name": "stdout",
     "output_type": "stream",
     "text": [
      "data path(s):\n",
      "/home/f0x-tr0t/Documents/10X//dc/31a6d9ca5315cecd1bf0cfee00a7e0\n",
      "/home/f0x-tr0t/Documents/10X//10/02707afa69972e511a60575fbc6293\n"
     ]
    }
   ],
   "source": [
    "# print the data path\n",
    "print(f'data path(s):\\n{data1}\\n{data2}')"
   ]
  },
  {
   "attachments": {},
   "cell_type": "markdown",
   "metadata": {},
   "source": [
    "Storing the data locally"
   ]
  },
  {
   "cell_type": "code",
   "execution_count": 5,
   "metadata": {},
   "outputs": [],
   "source": [
    "date = ['Trip Start Time', 'Trip End Time'] # the date column name\n",
    "missing_values = [\"n/a\", \"na\", \"undefined\", '?', 'NA', 'undefined']\n",
    "\n",
    "# read CSV \n",
    "df1 = pd.read_csv(data1, na_values=missing_values, parse_dates=date)\n",
    "df2 = pd.read_csv(data2, na_values=missing_values)"
   ]
  },
  {
   "attachments": {},
   "cell_type": "markdown",
   "metadata": {},
   "source": [
    "# Data preparation, EDA, and feature Engineering"
   ]
  },
  {
   "attachments": {},
   "cell_type": "markdown",
   "metadata": {},
   "source": [
    "We are going to take an in depth look at the data sets provided by [Gokada](https://www.gokada.ng/)\n",
    "\n",
    "But first lets make some Data preparation, then we will take a further in depth look at EDA, and finally feature engineering "
   ]
  },
  {
   "attachments": {},
   "cell_type": "markdown",
   "metadata": {},
   "source": [
    "## Data preparation"
   ]
  },
  {
   "attachments": {},
   "cell_type": "markdown",
   "metadata": {},
   "source": [
    "### Setting up the first data frame - Trips"
   ]
  },
  {
   "cell_type": "code",
   "execution_count": 6,
   "metadata": {},
   "outputs": [
    {
     "data": {
      "text/html": [
       "<div>\n",
       "<style scoped>\n",
       "    .dataframe tbody tr th:only-of-type {\n",
       "        vertical-align: middle;\n",
       "    }\n",
       "\n",
       "    .dataframe tbody tr th {\n",
       "        vertical-align: top;\n",
       "    }\n",
       "\n",
       "    .dataframe thead th {\n",
       "        text-align: right;\n",
       "    }\n",
       "</style>\n",
       "<table border=\"1\" class=\"dataframe\">\n",
       "  <thead>\n",
       "    <tr style=\"text-align: right;\">\n",
       "      <th></th>\n",
       "      <th>Trip ID</th>\n",
       "      <th>Trip Origin</th>\n",
       "      <th>Trip Destination</th>\n",
       "      <th>Trip Start Time</th>\n",
       "      <th>Trip End Time</th>\n",
       "    </tr>\n",
       "  </thead>\n",
       "  <tbody>\n",
       "    <tr>\n",
       "      <th>0</th>\n",
       "      <td>391996</td>\n",
       "      <td>6.508813001668548,3.37740316890347</td>\n",
       "      <td>6.650969799999999,3.3450307</td>\n",
       "      <td>2021-07-01 07:28:04</td>\n",
       "      <td>2021-07-01 07:29:37</td>\n",
       "    </tr>\n",
       "    <tr>\n",
       "      <th>1</th>\n",
       "      <td>391997</td>\n",
       "      <td>6.4316714,3.4555375</td>\n",
       "      <td>6.4280814653326,3.4721885847586</td>\n",
       "      <td>2021-07-01 06:38:04</td>\n",
       "      <td>2021-07-01 07:07:28</td>\n",
       "    </tr>\n",
       "    <tr>\n",
       "      <th>2</th>\n",
       "      <td>391998</td>\n",
       "      <td>6.631679399999999,3.3388976</td>\n",
       "      <td>6.508324099999999,3.3590397</td>\n",
       "      <td>2021-07-01 06:21:02</td>\n",
       "      <td>2021-07-01 07:02:23</td>\n",
       "    </tr>\n",
       "    <tr>\n",
       "      <th>3</th>\n",
       "      <td>391999</td>\n",
       "      <td>6.572757200000001,3.3677082</td>\n",
       "      <td>6.584881099999999,3.3614073</td>\n",
       "      <td>2021-07-01 07:16:07</td>\n",
       "      <td>2021-07-01 07:29:42</td>\n",
       "    </tr>\n",
       "    <tr>\n",
       "      <th>4</th>\n",
       "      <td>392001</td>\n",
       "      <td>6.6010417,3.2766339</td>\n",
       "      <td>6.4501069,3.3916154</td>\n",
       "      <td>2021-07-01 09:30:59</td>\n",
       "      <td>2021-07-01 09:34:36</td>\n",
       "    </tr>\n",
       "    <tr>\n",
       "      <th>5</th>\n",
       "      <td>392005</td>\n",
       "      <td>6.565087699999999,3.3844415</td>\n",
       "      <td>6.499696300000001,3.3509075</td>\n",
       "      <td>2021-07-01 10:53:36</td>\n",
       "      <td>2021-07-01 11:27:51</td>\n",
       "    </tr>\n",
       "    <tr>\n",
       "      <th>6</th>\n",
       "      <td>392009</td>\n",
       "      <td>6.6636484,3.3082058</td>\n",
       "      <td>6.6185421,3.301634</td>\n",
       "      <td>2021-07-01 06:39:51</td>\n",
       "      <td>2021-07-01 07:41:12</td>\n",
       "    </tr>\n",
       "  </tbody>\n",
       "</table>\n",
       "</div>"
      ],
      "text/plain": [
       "   Trip ID                         Trip Origin  \\\n",
       "0   391996  6.508813001668548,3.37740316890347   \n",
       "1   391997                 6.4316714,3.4555375   \n",
       "2   391998         6.631679399999999,3.3388976   \n",
       "3   391999         6.572757200000001,3.3677082   \n",
       "4   392001                 6.6010417,3.2766339   \n",
       "5   392005         6.565087699999999,3.3844415   \n",
       "6   392009                 6.6636484,3.3082058   \n",
       "\n",
       "                  Trip Destination     Trip Start Time       Trip End Time  \n",
       "0      6.650969799999999,3.3450307 2021-07-01 07:28:04 2021-07-01 07:29:37  \n",
       "1  6.4280814653326,3.4721885847586 2021-07-01 06:38:04 2021-07-01 07:07:28  \n",
       "2      6.508324099999999,3.3590397 2021-07-01 06:21:02 2021-07-01 07:02:23  \n",
       "3      6.584881099999999,3.3614073 2021-07-01 07:16:07 2021-07-01 07:29:42  \n",
       "4              6.4501069,3.3916154 2021-07-01 09:30:59 2021-07-01 09:34:36  \n",
       "5      6.499696300000001,3.3509075 2021-07-01 10:53:36 2021-07-01 11:27:51  \n",
       "6               6.6185421,3.301634 2021-07-01 06:39:51 2021-07-01 07:41:12  "
      ]
     },
     "execution_count": 6,
     "metadata": {},
     "output_type": "execute_result"
    }
   ],
   "source": [
    "df1[:7]"
   ]
  },
  {
   "attachments": {},
   "cell_type": "markdown",
   "metadata": {},
   "source": [
    "Sample data from the first data frame"
   ]
  },
  {
   "cell_type": "code",
   "execution_count": 7,
   "metadata": {},
   "outputs": [
    {
     "name": "stdout",
     "output_type": "stream",
     "text": [
      "<class 'pandas.core.frame.DataFrame'>\n",
      "RangeIndex: 536020 entries, 0 to 536019\n",
      "Data columns (total 5 columns):\n",
      " #   Column            Non-Null Count   Dtype         \n",
      "---  ------            --------------   -----         \n",
      " 0   Trip ID           536020 non-null  int64         \n",
      " 1   Trip Origin       536020 non-null  object        \n",
      " 2   Trip Destination  536020 non-null  object        \n",
      " 3   Trip Start Time   534369 non-null  datetime64[ns]\n",
      " 4   Trip End Time     536019 non-null  datetime64[ns]\n",
      "dtypes: datetime64[ns](2), int64(1), object(2)\n",
      "memory usage: 20.4+ MB\n"
     ]
    }
   ],
   "source": [
    "df1.info()"
   ]
  },
  {
   "attachments": {},
   "cell_type": "markdown",
   "metadata": {},
   "source": [
    "We have five features in the firs data set, all telling us about the trip and its several attributes"
   ]
  },
  {
   "cell_type": "code",
   "execution_count": 8,
   "metadata": {},
   "outputs": [
    {
     "data": {
      "text/html": [
       "<div>\n",
       "<style scoped>\n",
       "    .dataframe tbody tr th:only-of-type {\n",
       "        vertical-align: middle;\n",
       "    }\n",
       "\n",
       "    .dataframe tbody tr th {\n",
       "        vertical-align: top;\n",
       "    }\n",
       "\n",
       "    .dataframe thead th {\n",
       "        text-align: right;\n",
       "    }\n",
       "</style>\n",
       "<table border=\"1\" class=\"dataframe\">\n",
       "  <thead>\n",
       "    <tr style=\"text-align: right;\">\n",
       "      <th></th>\n",
       "      <th>Trip ID</th>\n",
       "    </tr>\n",
       "  </thead>\n",
       "  <tbody>\n",
       "    <tr>\n",
       "      <th>count</th>\n",
       "      <td>5.360200e+05</td>\n",
       "    </tr>\n",
       "    <tr>\n",
       "      <th>mean</th>\n",
       "      <td>9.910221e+05</td>\n",
       "    </tr>\n",
       "    <tr>\n",
       "      <th>std</th>\n",
       "      <td>3.456364e+05</td>\n",
       "    </tr>\n",
       "    <tr>\n",
       "      <th>min</th>\n",
       "      <td>3.919960e+05</td>\n",
       "    </tr>\n",
       "    <tr>\n",
       "      <th>25%</th>\n",
       "      <td>6.935610e+05</td>\n",
       "    </tr>\n",
       "    <tr>\n",
       "      <th>50%</th>\n",
       "      <td>9.910085e+05</td>\n",
       "    </tr>\n",
       "    <tr>\n",
       "      <th>75%</th>\n",
       "      <td>1.281570e+06</td>\n",
       "    </tr>\n",
       "    <tr>\n",
       "      <th>max</th>\n",
       "      <td>1.637709e+06</td>\n",
       "    </tr>\n",
       "  </tbody>\n",
       "</table>\n",
       "</div>"
      ],
      "text/plain": [
       "            Trip ID\n",
       "count  5.360200e+05\n",
       "mean   9.910221e+05\n",
       "std    3.456364e+05\n",
       "min    3.919960e+05\n",
       "25%    6.935610e+05\n",
       "50%    9.910085e+05\n",
       "75%    1.281570e+06\n",
       "max    1.637709e+06"
      ]
     },
     "execution_count": 8,
     "metadata": {},
     "output_type": "execute_result"
    }
   ],
   "source": [
    "df1.describe()"
   ]
  },
  {
   "attachments": {},
   "cell_type": "markdown",
   "metadata": {},
   "source": [
    "As we can see only the trip id has numeric values, all data values will be changed to their appropriate data types\n",
    "\n",
    "Trip Destination and Trip Origin"
   ]
  },
  {
   "attachments": {},
   "cell_type": "markdown",
   "metadata": {},
   "source": [
    "TRIP ID"
   ]
  },
  {
   "cell_type": "code",
   "execution_count": 9,
   "metadata": {},
   "outputs": [
    {
     "data": {
      "text/plain": [
       "(391996, 1637709)"
      ]
     },
     "execution_count": 9,
     "metadata": {},
     "output_type": "execute_result"
    }
   ],
   "source": [
    "df1['Trip ID'].min(), df1['Trip ID'].max()"
   ]
  },
  {
   "attachments": {},
   "cell_type": "markdown",
   "metadata": {},
   "source": [
    "the trip Id's are between 391, 996 and 1, 637, 709\n",
    "\n",
    "This indicates at least to some degree not all of the data was provided at this point in time"
   ]
  },
  {
   "cell_type": "code",
   "execution_count": 10,
   "metadata": {},
   "outputs": [
    {
     "data": {
      "text/plain": [
       "391996     1\n",
       "1180070    1\n",
       "1180061    1\n",
       "1180060    1\n",
       "1180059    1\n",
       "          ..\n",
       "789757     1\n",
       "789755     1\n",
       "789751     1\n",
       "789750     1\n",
       "1637709    1\n",
       "Name: Trip ID, Length: 536020, dtype: int64"
      ]
     },
     "execution_count": 10,
     "metadata": {},
     "output_type": "execute_result"
    }
   ],
   "source": [
    "df1['Trip ID'].value_counts()"
   ]
  },
  {
   "attachments": {},
   "cell_type": "markdown",
   "metadata": {},
   "source": [
    "All trip id's are unique"
   ]
  },
  {
   "attachments": {},
   "cell_type": "markdown",
   "metadata": {},
   "source": [
    "TRIP ORIGIN AND DESTINATION"
   ]
  },
  {
   "cell_type": "code",
   "execution_count": 11,
   "metadata": {},
   "outputs": [
    {
     "name": "stdout",
     "output_type": "stream",
     "text": [
      "<class 'pandas.core.frame.DataFrame'>\n",
      "RangeIndex: 536020 entries, 0 to 536019\n",
      "Data columns (total 2 columns):\n",
      " #   Column            Non-Null Count   Dtype \n",
      "---  ------            --------------   ----- \n",
      " 0   Trip Destination  536020 non-null  object\n",
      " 1   Trip Origin       536020 non-null  object\n",
      "dtypes: object(2)\n",
      "memory usage: 8.2+ MB\n"
     ]
    }
   ],
   "source": [
    "df1[['Trip Destination', 'Trip Origin']].info()"
   ]
  },
  {
   "attachments": {},
   "cell_type": "markdown",
   "metadata": {},
   "source": [
    "Their data types are of object converting to latitude and longitude"
   ]
  },
  {
   "cell_type": "code",
   "execution_count": 12,
   "metadata": {},
   "outputs": [],
   "source": [
    "# separate latitude and longitude\n",
    "df1['Trip_Origin_lat'] = df1['Trip Origin'].apply(lambda x: str(x).split(',')[0])\n",
    "df1['Trip_Origin_lon'] = df1['Trip Origin'].apply(lambda x: str(x).split(',')[1])\n",
    "\n",
    "df1['Trip_Destination_lat'] = df1['Trip Destination'].apply(lambda x: str(x).split(',')[0])\n",
    "df1['Trip_Destination_lon'] = df1['Trip Destination'].apply(lambda x: str(x).split(',')[1])"
   ]
  },
  {
   "cell_type": "code",
   "execution_count": 13,
   "metadata": {},
   "outputs": [
    {
     "data": {
      "text/html": [
       "<div>\n",
       "<style scoped>\n",
       "    .dataframe tbody tr th:only-of-type {\n",
       "        vertical-align: middle;\n",
       "    }\n",
       "\n",
       "    .dataframe tbody tr th {\n",
       "        vertical-align: top;\n",
       "    }\n",
       "\n",
       "    .dataframe thead th {\n",
       "        text-align: right;\n",
       "    }\n",
       "</style>\n",
       "<table border=\"1\" class=\"dataframe\">\n",
       "  <thead>\n",
       "    <tr style=\"text-align: right;\">\n",
       "      <th></th>\n",
       "      <th>Trip ID</th>\n",
       "      <th>Trip Origin</th>\n",
       "      <th>Trip Destination</th>\n",
       "      <th>Trip Start Time</th>\n",
       "      <th>Trip End Time</th>\n",
       "      <th>Trip_Origin_lat</th>\n",
       "      <th>Trip_Origin_lon</th>\n",
       "      <th>Trip_Destination_lat</th>\n",
       "      <th>Trip_Destination_lon</th>\n",
       "    </tr>\n",
       "  </thead>\n",
       "  <tbody>\n",
       "    <tr>\n",
       "      <th>0</th>\n",
       "      <td>391996</td>\n",
       "      <td>6.508813001668548,3.37740316890347</td>\n",
       "      <td>6.650969799999999,3.3450307</td>\n",
       "      <td>2021-07-01 07:28:04</td>\n",
       "      <td>2021-07-01 07:29:37</td>\n",
       "      <td>6.508813001668548</td>\n",
       "      <td>3.37740316890347</td>\n",
       "      <td>6.650969799999999</td>\n",
       "      <td>3.3450307</td>\n",
       "    </tr>\n",
       "    <tr>\n",
       "      <th>1</th>\n",
       "      <td>391997</td>\n",
       "      <td>6.4316714,3.4555375</td>\n",
       "      <td>6.4280814653326,3.4721885847586</td>\n",
       "      <td>2021-07-01 06:38:04</td>\n",
       "      <td>2021-07-01 07:07:28</td>\n",
       "      <td>6.4316714</td>\n",
       "      <td>3.4555375</td>\n",
       "      <td>6.4280814653326</td>\n",
       "      <td>3.4721885847586</td>\n",
       "    </tr>\n",
       "    <tr>\n",
       "      <th>2</th>\n",
       "      <td>391998</td>\n",
       "      <td>6.631679399999999,3.3388976</td>\n",
       "      <td>6.508324099999999,3.3590397</td>\n",
       "      <td>2021-07-01 06:21:02</td>\n",
       "      <td>2021-07-01 07:02:23</td>\n",
       "      <td>6.631679399999999</td>\n",
       "      <td>3.3388976</td>\n",
       "      <td>6.508324099999999</td>\n",
       "      <td>3.3590397</td>\n",
       "    </tr>\n",
       "    <tr>\n",
       "      <th>3</th>\n",
       "      <td>391999</td>\n",
       "      <td>6.572757200000001,3.3677082</td>\n",
       "      <td>6.584881099999999,3.3614073</td>\n",
       "      <td>2021-07-01 07:16:07</td>\n",
       "      <td>2021-07-01 07:29:42</td>\n",
       "      <td>6.572757200000001</td>\n",
       "      <td>3.3677082</td>\n",
       "      <td>6.584881099999999</td>\n",
       "      <td>3.3614073</td>\n",
       "    </tr>\n",
       "    <tr>\n",
       "      <th>4</th>\n",
       "      <td>392001</td>\n",
       "      <td>6.6010417,3.2766339</td>\n",
       "      <td>6.4501069,3.3916154</td>\n",
       "      <td>2021-07-01 09:30:59</td>\n",
       "      <td>2021-07-01 09:34:36</td>\n",
       "      <td>6.6010417</td>\n",
       "      <td>3.2766339</td>\n",
       "      <td>6.4501069</td>\n",
       "      <td>3.3916154</td>\n",
       "    </tr>\n",
       "    <tr>\n",
       "      <th>5</th>\n",
       "      <td>392005</td>\n",
       "      <td>6.565087699999999,3.3844415</td>\n",
       "      <td>6.499696300000001,3.3509075</td>\n",
       "      <td>2021-07-01 10:53:36</td>\n",
       "      <td>2021-07-01 11:27:51</td>\n",
       "      <td>6.565087699999999</td>\n",
       "      <td>3.3844415</td>\n",
       "      <td>6.499696300000001</td>\n",
       "      <td>3.3509075</td>\n",
       "    </tr>\n",
       "    <tr>\n",
       "      <th>6</th>\n",
       "      <td>392009</td>\n",
       "      <td>6.6636484,3.3082058</td>\n",
       "      <td>6.6185421,3.301634</td>\n",
       "      <td>2021-07-01 06:39:51</td>\n",
       "      <td>2021-07-01 07:41:12</td>\n",
       "      <td>6.6636484</td>\n",
       "      <td>3.3082058</td>\n",
       "      <td>6.6185421</td>\n",
       "      <td>3.301634</td>\n",
       "    </tr>\n",
       "  </tbody>\n",
       "</table>\n",
       "</div>"
      ],
      "text/plain": [
       "   Trip ID                         Trip Origin  \\\n",
       "0   391996  6.508813001668548,3.37740316890347   \n",
       "1   391997                 6.4316714,3.4555375   \n",
       "2   391998         6.631679399999999,3.3388976   \n",
       "3   391999         6.572757200000001,3.3677082   \n",
       "4   392001                 6.6010417,3.2766339   \n",
       "5   392005         6.565087699999999,3.3844415   \n",
       "6   392009                 6.6636484,3.3082058   \n",
       "\n",
       "                  Trip Destination     Trip Start Time       Trip End Time  \\\n",
       "0      6.650969799999999,3.3450307 2021-07-01 07:28:04 2021-07-01 07:29:37   \n",
       "1  6.4280814653326,3.4721885847586 2021-07-01 06:38:04 2021-07-01 07:07:28   \n",
       "2      6.508324099999999,3.3590397 2021-07-01 06:21:02 2021-07-01 07:02:23   \n",
       "3      6.584881099999999,3.3614073 2021-07-01 07:16:07 2021-07-01 07:29:42   \n",
       "4              6.4501069,3.3916154 2021-07-01 09:30:59 2021-07-01 09:34:36   \n",
       "5      6.499696300000001,3.3509075 2021-07-01 10:53:36 2021-07-01 11:27:51   \n",
       "6               6.6185421,3.301634 2021-07-01 06:39:51 2021-07-01 07:41:12   \n",
       "\n",
       "     Trip_Origin_lat   Trip_Origin_lon Trip_Destination_lat  \\\n",
       "0  6.508813001668548  3.37740316890347    6.650969799999999   \n",
       "1          6.4316714         3.4555375      6.4280814653326   \n",
       "2  6.631679399999999         3.3388976    6.508324099999999   \n",
       "3  6.572757200000001         3.3677082    6.584881099999999   \n",
       "4          6.6010417         3.2766339            6.4501069   \n",
       "5  6.565087699999999         3.3844415    6.499696300000001   \n",
       "6          6.6636484         3.3082058            6.6185421   \n",
       "\n",
       "  Trip_Destination_lon  \n",
       "0            3.3450307  \n",
       "1      3.4721885847586  \n",
       "2            3.3590397  \n",
       "3            3.3614073  \n",
       "4            3.3916154  \n",
       "5            3.3509075  \n",
       "6             3.301634  "
      ]
     },
     "execution_count": 13,
     "metadata": {},
     "output_type": "execute_result"
    }
   ],
   "source": [
    "df1[:7]"
   ]
  },
  {
   "cell_type": "code",
   "execution_count": 14,
   "metadata": {},
   "outputs": [
    {
     "name": "stdout",
     "output_type": "stream",
     "text": [
      "feature: Trip Origin removed successfully\n",
      "feature: Trip Destination removed successfully\n"
     ]
    }
   ],
   "source": [
    "# remove the original features\n",
    "df1 = cleaner.remove_unwanted_cols(df1, ['Trip Origin', 'Trip Destination'])"
   ]
  },
  {
   "cell_type": "code",
   "execution_count": 15,
   "metadata": {},
   "outputs": [
    {
     "data": {
      "text/html": [
       "<div>\n",
       "<style scoped>\n",
       "    .dataframe tbody tr th:only-of-type {\n",
       "        vertical-align: middle;\n",
       "    }\n",
       "\n",
       "    .dataframe tbody tr th {\n",
       "        vertical-align: top;\n",
       "    }\n",
       "\n",
       "    .dataframe thead th {\n",
       "        text-align: right;\n",
       "    }\n",
       "</style>\n",
       "<table border=\"1\" class=\"dataframe\">\n",
       "  <thead>\n",
       "    <tr style=\"text-align: right;\">\n",
       "      <th></th>\n",
       "      <th>Trip ID</th>\n",
       "      <th>Trip Start Time</th>\n",
       "      <th>Trip End Time</th>\n",
       "      <th>Trip_Origin_lat</th>\n",
       "      <th>Trip_Origin_lon</th>\n",
       "      <th>Trip_Destination_lat</th>\n",
       "      <th>Trip_Destination_lon</th>\n",
       "    </tr>\n",
       "  </thead>\n",
       "  <tbody>\n",
       "    <tr>\n",
       "      <th>0</th>\n",
       "      <td>391996</td>\n",
       "      <td>2021-07-01 07:28:04</td>\n",
       "      <td>2021-07-01 07:29:37</td>\n",
       "      <td>6.508813001668548</td>\n",
       "      <td>3.37740316890347</td>\n",
       "      <td>6.650969799999999</td>\n",
       "      <td>3.3450307</td>\n",
       "    </tr>\n",
       "    <tr>\n",
       "      <th>1</th>\n",
       "      <td>391997</td>\n",
       "      <td>2021-07-01 06:38:04</td>\n",
       "      <td>2021-07-01 07:07:28</td>\n",
       "      <td>6.4316714</td>\n",
       "      <td>3.4555375</td>\n",
       "      <td>6.4280814653326</td>\n",
       "      <td>3.4721885847586</td>\n",
       "    </tr>\n",
       "    <tr>\n",
       "      <th>2</th>\n",
       "      <td>391998</td>\n",
       "      <td>2021-07-01 06:21:02</td>\n",
       "      <td>2021-07-01 07:02:23</td>\n",
       "      <td>6.631679399999999</td>\n",
       "      <td>3.3388976</td>\n",
       "      <td>6.508324099999999</td>\n",
       "      <td>3.3590397</td>\n",
       "    </tr>\n",
       "    <tr>\n",
       "      <th>3</th>\n",
       "      <td>391999</td>\n",
       "      <td>2021-07-01 07:16:07</td>\n",
       "      <td>2021-07-01 07:29:42</td>\n",
       "      <td>6.572757200000001</td>\n",
       "      <td>3.3677082</td>\n",
       "      <td>6.584881099999999</td>\n",
       "      <td>3.3614073</td>\n",
       "    </tr>\n",
       "    <tr>\n",
       "      <th>4</th>\n",
       "      <td>392001</td>\n",
       "      <td>2021-07-01 09:30:59</td>\n",
       "      <td>2021-07-01 09:34:36</td>\n",
       "      <td>6.6010417</td>\n",
       "      <td>3.2766339</td>\n",
       "      <td>6.4501069</td>\n",
       "      <td>3.3916154</td>\n",
       "    </tr>\n",
       "    <tr>\n",
       "      <th>5</th>\n",
       "      <td>392005</td>\n",
       "      <td>2021-07-01 10:53:36</td>\n",
       "      <td>2021-07-01 11:27:51</td>\n",
       "      <td>6.565087699999999</td>\n",
       "      <td>3.3844415</td>\n",
       "      <td>6.499696300000001</td>\n",
       "      <td>3.3509075</td>\n",
       "    </tr>\n",
       "    <tr>\n",
       "      <th>6</th>\n",
       "      <td>392009</td>\n",
       "      <td>2021-07-01 06:39:51</td>\n",
       "      <td>2021-07-01 07:41:12</td>\n",
       "      <td>6.6636484</td>\n",
       "      <td>3.3082058</td>\n",
       "      <td>6.6185421</td>\n",
       "      <td>3.301634</td>\n",
       "    </tr>\n",
       "  </tbody>\n",
       "</table>\n",
       "</div>"
      ],
      "text/plain": [
       "   Trip ID     Trip Start Time       Trip End Time    Trip_Origin_lat  \\\n",
       "0   391996 2021-07-01 07:28:04 2021-07-01 07:29:37  6.508813001668548   \n",
       "1   391997 2021-07-01 06:38:04 2021-07-01 07:07:28          6.4316714   \n",
       "2   391998 2021-07-01 06:21:02 2021-07-01 07:02:23  6.631679399999999   \n",
       "3   391999 2021-07-01 07:16:07 2021-07-01 07:29:42  6.572757200000001   \n",
       "4   392001 2021-07-01 09:30:59 2021-07-01 09:34:36          6.6010417   \n",
       "5   392005 2021-07-01 10:53:36 2021-07-01 11:27:51  6.565087699999999   \n",
       "6   392009 2021-07-01 06:39:51 2021-07-01 07:41:12          6.6636484   \n",
       "\n",
       "    Trip_Origin_lon Trip_Destination_lat Trip_Destination_lon  \n",
       "0  3.37740316890347    6.650969799999999            3.3450307  \n",
       "1         3.4555375      6.4280814653326      3.4721885847586  \n",
       "2         3.3388976    6.508324099999999            3.3590397  \n",
       "3         3.3677082    6.584881099999999            3.3614073  \n",
       "4         3.2766339            6.4501069            3.3916154  \n",
       "5         3.3844415    6.499696300000001            3.3509075  \n",
       "6         3.3082058            6.6185421             3.301634  "
      ]
     },
     "execution_count": 15,
     "metadata": {},
     "output_type": "execute_result"
    }
   ],
   "source": [
    "df1[:7]"
   ]
  },
  {
   "cell_type": "code",
   "execution_count": 16,
   "metadata": {},
   "outputs": [
    {
     "name": "stdout",
     "output_type": "stream",
     "text": [
      "<class 'pandas.core.frame.DataFrame'>\n",
      "RangeIndex: 536020 entries, 0 to 536019\n",
      "Data columns (total 4 columns):\n",
      " #   Column                Non-Null Count   Dtype \n",
      "---  ------                --------------   ----- \n",
      " 0   Trip_Origin_lat       536020 non-null  object\n",
      " 1   Trip_Origin_lon       536020 non-null  object\n",
      " 2   Trip_Destination_lat  536020 non-null  object\n",
      " 3   Trip_Destination_lon  536020 non-null  object\n",
      "dtypes: object(4)\n",
      "memory usage: 16.4+ MB\n"
     ]
    }
   ],
   "source": [
    "df1[['Trip_Origin_lat', 'Trip_Origin_lon', 'Trip_Destination_lat', 'Trip_Destination_lon']].info()"
   ]
  },
  {
   "attachments": {},
   "cell_type": "markdown",
   "metadata": {},
   "source": [
    "converting the object data types to floating number data types"
   ]
  },
  {
   "cell_type": "code",
   "execution_count": 17,
   "metadata": {},
   "outputs": [
    {
     "name": "stdout",
     "output_type": "stream",
     "text": [
      "feature: Trip_Origin_lat converted to numeric data type format\n",
      "feature: Trip_Origin_lon converted to numeric data type format\n",
      "feature: Trip_Destination_lat converted to numeric data type format\n",
      "feature: Trip_Destination_lon converted to numeric data type format\n"
     ]
    }
   ],
   "source": [
    "df1 = cleaner.convert_to_numeric(df1, ['Trip_Origin_lat', 'Trip_Origin_lon', 'Trip_Destination_lat', 'Trip_Destination_lon'])"
   ]
  },
  {
   "cell_type": "code",
   "execution_count": 18,
   "metadata": {},
   "outputs": [
    {
     "name": "stdout",
     "output_type": "stream",
     "text": [
      "<class 'pandas.core.frame.DataFrame'>\n",
      "RangeIndex: 536020 entries, 0 to 536019\n",
      "Data columns (total 4 columns):\n",
      " #   Column                Non-Null Count   Dtype  \n",
      "---  ------                --------------   -----  \n",
      " 0   Trip_Origin_lat       536020 non-null  float64\n",
      " 1   Trip_Origin_lon       536020 non-null  float64\n",
      " 2   Trip_Destination_lat  536020 non-null  float64\n",
      " 3   Trip_Destination_lon  536020 non-null  float64\n",
      "dtypes: float64(4)\n",
      "memory usage: 16.4 MB\n"
     ]
    }
   ],
   "source": [
    "df1[['Trip_Origin_lat', 'Trip_Origin_lon', 'Trip_Destination_lat', 'Trip_Destination_lon']].info()"
   ]
  },
  {
   "attachments": {},
   "cell_type": "markdown",
   "metadata": {},
   "source": [
    "Data types converted successfully, this will come in handy latter when making calculations on the locations"
   ]
  },
  {
   "cell_type": "code",
   "execution_count": 19,
   "metadata": {},
   "outputs": [
    {
     "data": {
      "text/plain": [
       "Trip_Origin_lat         0\n",
       "Trip_Origin_lon         0\n",
       "Trip_Destination_lat    0\n",
       "Trip_Destination_lon    0\n",
       "dtype: int64"
      ]
     },
     "execution_count": 19,
     "metadata": {},
     "output_type": "execute_result"
    }
   ],
   "source": [
    "df1[['Trip_Origin_lat', 'Trip_Origin_lon', 'Trip_Destination_lat', 'Trip_Destination_lon']].isna().sum()"
   ]
  },
  {
   "attachments": {},
   "cell_type": "markdown",
   "metadata": {},
   "source": [
    "There are no nulls in the trip origin and destination features"
   ]
  },
  {
   "attachments": {},
   "cell_type": "markdown",
   "metadata": {},
   "source": [
    "Calculating the distance between the locations"
   ]
  },
  {
   "cell_type": "code",
   "execution_count": 20,
   "metadata": {},
   "outputs": [],
   "source": [
    "from geopy import distance\n",
    "df1['Distance']=df1.apply(lambda x:distance.distance((x[\"Trip_Origin_lat\"],x[\"Trip_Origin_lon\"]), (x[\"Trip_Destination_lat\"],x[\"Trip_Destination_lon\"])).km, axis=1)"
   ]
  },
  {
   "cell_type": "code",
   "execution_count": 21,
   "metadata": {},
   "outputs": [
    {
     "data": {
      "text/html": [
       "<div>\n",
       "<style scoped>\n",
       "    .dataframe tbody tr th:only-of-type {\n",
       "        vertical-align: middle;\n",
       "    }\n",
       "\n",
       "    .dataframe tbody tr th {\n",
       "        vertical-align: top;\n",
       "    }\n",
       "\n",
       "    .dataframe thead th {\n",
       "        text-align: right;\n",
       "    }\n",
       "</style>\n",
       "<table border=\"1\" class=\"dataframe\">\n",
       "  <thead>\n",
       "    <tr style=\"text-align: right;\">\n",
       "      <th></th>\n",
       "      <th>Trip ID</th>\n",
       "      <th>Trip Start Time</th>\n",
       "      <th>Trip End Time</th>\n",
       "      <th>Trip_Origin_lat</th>\n",
       "      <th>Trip_Origin_lon</th>\n",
       "      <th>Trip_Destination_lat</th>\n",
       "      <th>Trip_Destination_lon</th>\n",
       "      <th>Distance</th>\n",
       "    </tr>\n",
       "  </thead>\n",
       "  <tbody>\n",
       "    <tr>\n",
       "      <th>0</th>\n",
       "      <td>391996</td>\n",
       "      <td>2021-07-01 07:28:04</td>\n",
       "      <td>2021-07-01 07:29:37</td>\n",
       "      <td>6.508813</td>\n",
       "      <td>3.377403</td>\n",
       "      <td>6.650970</td>\n",
       "      <td>3.345031</td>\n",
       "      <td>16.123451</td>\n",
       "    </tr>\n",
       "    <tr>\n",
       "      <th>1</th>\n",
       "      <td>391997</td>\n",
       "      <td>2021-07-01 06:38:04</td>\n",
       "      <td>2021-07-01 07:07:28</td>\n",
       "      <td>6.431671</td>\n",
       "      <td>3.455538</td>\n",
       "      <td>6.428081</td>\n",
       "      <td>3.472189</td>\n",
       "      <td>1.884305</td>\n",
       "    </tr>\n",
       "    <tr>\n",
       "      <th>2</th>\n",
       "      <td>391998</td>\n",
       "      <td>2021-07-01 06:21:02</td>\n",
       "      <td>2021-07-01 07:02:23</td>\n",
       "      <td>6.631679</td>\n",
       "      <td>3.338898</td>\n",
       "      <td>6.508324</td>\n",
       "      <td>3.359040</td>\n",
       "      <td>13.822393</td>\n",
       "    </tr>\n",
       "    <tr>\n",
       "      <th>3</th>\n",
       "      <td>391999</td>\n",
       "      <td>2021-07-01 07:16:07</td>\n",
       "      <td>2021-07-01 07:29:42</td>\n",
       "      <td>6.572757</td>\n",
       "      <td>3.367708</td>\n",
       "      <td>6.584881</td>\n",
       "      <td>3.361407</td>\n",
       "      <td>1.511034</td>\n",
       "    </tr>\n",
       "    <tr>\n",
       "      <th>4</th>\n",
       "      <td>392001</td>\n",
       "      <td>2021-07-01 09:30:59</td>\n",
       "      <td>2021-07-01 09:34:36</td>\n",
       "      <td>6.601042</td>\n",
       "      <td>3.276634</td>\n",
       "      <td>6.450107</td>\n",
       "      <td>3.391615</td>\n",
       "      <td>20.984319</td>\n",
       "    </tr>\n",
       "    <tr>\n",
       "      <th>5</th>\n",
       "      <td>392005</td>\n",
       "      <td>2021-07-01 10:53:36</td>\n",
       "      <td>2021-07-01 11:27:51</td>\n",
       "      <td>6.565088</td>\n",
       "      <td>3.384441</td>\n",
       "      <td>6.499696</td>\n",
       "      <td>3.350907</td>\n",
       "      <td>8.127195</td>\n",
       "    </tr>\n",
       "    <tr>\n",
       "      <th>6</th>\n",
       "      <td>392009</td>\n",
       "      <td>2021-07-01 06:39:51</td>\n",
       "      <td>2021-07-01 07:41:12</td>\n",
       "      <td>6.663648</td>\n",
       "      <td>3.308206</td>\n",
       "      <td>6.618542</td>\n",
       "      <td>3.301634</td>\n",
       "      <td>5.040921</td>\n",
       "    </tr>\n",
       "  </tbody>\n",
       "</table>\n",
       "</div>"
      ],
      "text/plain": [
       "   Trip ID     Trip Start Time       Trip End Time  Trip_Origin_lat  \\\n",
       "0   391996 2021-07-01 07:28:04 2021-07-01 07:29:37         6.508813   \n",
       "1   391997 2021-07-01 06:38:04 2021-07-01 07:07:28         6.431671   \n",
       "2   391998 2021-07-01 06:21:02 2021-07-01 07:02:23         6.631679   \n",
       "3   391999 2021-07-01 07:16:07 2021-07-01 07:29:42         6.572757   \n",
       "4   392001 2021-07-01 09:30:59 2021-07-01 09:34:36         6.601042   \n",
       "5   392005 2021-07-01 10:53:36 2021-07-01 11:27:51         6.565088   \n",
       "6   392009 2021-07-01 06:39:51 2021-07-01 07:41:12         6.663648   \n",
       "\n",
       "   Trip_Origin_lon  Trip_Destination_lat  Trip_Destination_lon   Distance  \n",
       "0         3.377403              6.650970              3.345031  16.123451  \n",
       "1         3.455538              6.428081              3.472189   1.884305  \n",
       "2         3.338898              6.508324              3.359040  13.822393  \n",
       "3         3.367708              6.584881              3.361407   1.511034  \n",
       "4         3.276634              6.450107              3.391615  20.984319  \n",
       "5         3.384441              6.499696              3.350907   8.127195  \n",
       "6         3.308206              6.618542              3.301634   5.040921  "
      ]
     },
     "execution_count": 21,
     "metadata": {},
     "output_type": "execute_result"
    }
   ],
   "source": [
    "df1[:7]"
   ]
  },
  {
   "attachments": {},
   "cell_type": "markdown",
   "metadata": {},
   "source": [
    "Distance between the start and end trip locations added"
   ]
  },
  {
   "cell_type": "code",
   "execution_count": 22,
   "metadata": {},
   "outputs": [
    {
     "data": {
      "text/plain": [
       "(0.0, 680.0808474078148)"
      ]
     },
     "execution_count": 22,
     "metadata": {},
     "output_type": "execute_result"
    }
   ],
   "source": [
    "df1['Distance'].min(), df1['Distance'].max()"
   ]
  },
  {
   "attachments": {},
   "cell_type": "markdown",
   "metadata": {},
   "source": [
    "The min and max values calculated for the distance are 0 and 680 (km) respectively.\n",
    "\n",
    "NB. This is not the route that is being calculated, rather the shortest path between the locations "
   ]
  },
  {
   "attachments": {},
   "cell_type": "markdown",
   "metadata": {},
   "source": [
    "TRIP START AND END TIMES"
   ]
  },
  {
   "cell_type": "code",
   "execution_count": 23,
   "metadata": {},
   "outputs": [
    {
     "name": "stdout",
     "output_type": "stream",
     "text": [
      "<class 'pandas.core.frame.DataFrame'>\n",
      "RangeIndex: 536020 entries, 0 to 536019\n",
      "Data columns (total 2 columns):\n",
      " #   Column           Non-Null Count   Dtype         \n",
      "---  ------           --------------   -----         \n",
      " 0   Trip Start Time  534369 non-null  datetime64[ns]\n",
      " 1   Trip End Time    536019 non-null  datetime64[ns]\n",
      "dtypes: datetime64[ns](2)\n",
      "memory usage: 8.2 MB\n"
     ]
    }
   ],
   "source": [
    "df1[['Trip Start Time', 'Trip End Time']].info()"
   ]
  },
  {
   "attachments": {},
   "cell_type": "markdown",
   "metadata": {},
   "source": [
    "Data types matches the feature"
   ]
  },
  {
   "cell_type": "code",
   "execution_count": 24,
   "metadata": {},
   "outputs": [
    {
     "data": {
      "text/plain": [
       "(1651, 1)"
      ]
     },
     "execution_count": 24,
     "metadata": {},
     "output_type": "execute_result"
    }
   ],
   "source": [
    "df1['Trip Start Time'].isna().sum(), df1['Trip End Time'].isna().sum()"
   ]
  },
  {
   "cell_type": "code",
   "execution_count": 25,
   "metadata": {},
   "outputs": [
    {
     "name": "stdout",
     "output_type": "stream",
     "text": [
      "The dataset contains 0.0385247% missing values\n"
     ]
    }
   ],
   "source": [
    "cleaner.percent_missing(df1)"
   ]
  },
  {
   "attachments": {},
   "cell_type": "markdown",
   "metadata": {},
   "source": [
    "There are around 1, 650 missing values for the Trip starting time and only 1 missing value for trip ending time\n",
    "\n",
    "This constitutes of only around a 0.03% of missing data values for data frame one"
   ]
  },
  {
   "attachments": {},
   "cell_type": "markdown",
   "metadata": {},
   "source": [
    "These null values will be handled latter, since they are very small in number, but the trip id's will be recorded for further investigation"
   ]
  },
  {
   "cell_type": "code",
   "execution_count": 26,
   "metadata": {},
   "outputs": [
    {
     "data": {
      "text/plain": [
       "(1651, 433660)"
      ]
     },
     "execution_count": 26,
     "metadata": {},
     "output_type": "execute_result"
    }
   ],
   "source": [
    "dff = df1[df1['Trip Start Time'].isna()]\n",
    "null_start_time_ids = dff.index.to_list()\n",
    "len(null_start_time_ids), null_start_time_ids[777]"
   ]
  },
  {
   "attachments": {},
   "cell_type": "markdown",
   "metadata": {},
   "source": [
    "All null trip start time id's recorded"
   ]
  },
  {
   "cell_type": "code",
   "execution_count": 27,
   "metadata": {},
   "outputs": [
    {
     "data": {
      "text/plain": [
       "(Timestamp('2021-07-01 06:21:02'), Timestamp('2022-06-13 10:04:28'))"
      ]
     },
     "execution_count": 27,
     "metadata": {},
     "output_type": "execute_result"
    }
   ],
   "source": [
    "df1['Trip Start Time'].min(), df1['Trip Start Time'].max()"
   ]
  },
  {
   "cell_type": "code",
   "execution_count": 28,
   "metadata": {},
   "outputs": [
    {
     "data": {
      "text/plain": [
       "(Timestamp('2021-07-01 07:02:23'), Timestamp('2022-06-13 10:42:15'))"
      ]
     },
     "execution_count": 28,
     "metadata": {},
     "output_type": "execute_result"
    }
   ],
   "source": [
    "df1['Trip End Time'].min(), df1['Trip End Time'].max()"
   ]
  },
  {
   "attachments": {},
   "cell_type": "markdown",
   "metadata": {},
   "source": [
    "The data collected ranges from the 1st of July, 2021 up to the 13th of June, 2022, Almost in a range of 1 year"
   ]
  },
  {
   "attachments": {},
   "cell_type": "markdown",
   "metadata": {},
   "source": [
    "Calculating the time between the start and end times"
   ]
  },
  {
   "cell_type": "code",
   "execution_count": 29,
   "metadata": {},
   "outputs": [],
   "source": [
    "df1['Time taken'] = (df1['Trip End Time'] - df1['Trip Start Time']).astype('timedelta64[s]')"
   ]
  },
  {
   "cell_type": "code",
   "execution_count": 30,
   "metadata": {},
   "outputs": [
    {
     "data": {
      "text/html": [
       "<div>\n",
       "<style scoped>\n",
       "    .dataframe tbody tr th:only-of-type {\n",
       "        vertical-align: middle;\n",
       "    }\n",
       "\n",
       "    .dataframe tbody tr th {\n",
       "        vertical-align: top;\n",
       "    }\n",
       "\n",
       "    .dataframe thead th {\n",
       "        text-align: right;\n",
       "    }\n",
       "</style>\n",
       "<table border=\"1\" class=\"dataframe\">\n",
       "  <thead>\n",
       "    <tr style=\"text-align: right;\">\n",
       "      <th></th>\n",
       "      <th>Trip ID</th>\n",
       "      <th>Trip Start Time</th>\n",
       "      <th>Trip End Time</th>\n",
       "      <th>Trip_Origin_lat</th>\n",
       "      <th>Trip_Origin_lon</th>\n",
       "      <th>Trip_Destination_lat</th>\n",
       "      <th>Trip_Destination_lon</th>\n",
       "      <th>Distance</th>\n",
       "      <th>Time taken</th>\n",
       "    </tr>\n",
       "  </thead>\n",
       "  <tbody>\n",
       "    <tr>\n",
       "      <th>0</th>\n",
       "      <td>391996</td>\n",
       "      <td>2021-07-01 07:28:04</td>\n",
       "      <td>2021-07-01 07:29:37</td>\n",
       "      <td>6.508813</td>\n",
       "      <td>3.377403</td>\n",
       "      <td>6.650970</td>\n",
       "      <td>3.345031</td>\n",
       "      <td>16.123451</td>\n",
       "      <td>93.0</td>\n",
       "    </tr>\n",
       "    <tr>\n",
       "      <th>1</th>\n",
       "      <td>391997</td>\n",
       "      <td>2021-07-01 06:38:04</td>\n",
       "      <td>2021-07-01 07:07:28</td>\n",
       "      <td>6.431671</td>\n",
       "      <td>3.455538</td>\n",
       "      <td>6.428081</td>\n",
       "      <td>3.472189</td>\n",
       "      <td>1.884305</td>\n",
       "      <td>1764.0</td>\n",
       "    </tr>\n",
       "    <tr>\n",
       "      <th>2</th>\n",
       "      <td>391998</td>\n",
       "      <td>2021-07-01 06:21:02</td>\n",
       "      <td>2021-07-01 07:02:23</td>\n",
       "      <td>6.631679</td>\n",
       "      <td>3.338898</td>\n",
       "      <td>6.508324</td>\n",
       "      <td>3.359040</td>\n",
       "      <td>13.822393</td>\n",
       "      <td>2481.0</td>\n",
       "    </tr>\n",
       "    <tr>\n",
       "      <th>3</th>\n",
       "      <td>391999</td>\n",
       "      <td>2021-07-01 07:16:07</td>\n",
       "      <td>2021-07-01 07:29:42</td>\n",
       "      <td>6.572757</td>\n",
       "      <td>3.367708</td>\n",
       "      <td>6.584881</td>\n",
       "      <td>3.361407</td>\n",
       "      <td>1.511034</td>\n",
       "      <td>815.0</td>\n",
       "    </tr>\n",
       "    <tr>\n",
       "      <th>4</th>\n",
       "      <td>392001</td>\n",
       "      <td>2021-07-01 09:30:59</td>\n",
       "      <td>2021-07-01 09:34:36</td>\n",
       "      <td>6.601042</td>\n",
       "      <td>3.276634</td>\n",
       "      <td>6.450107</td>\n",
       "      <td>3.391615</td>\n",
       "      <td>20.984319</td>\n",
       "      <td>217.0</td>\n",
       "    </tr>\n",
       "    <tr>\n",
       "      <th>5</th>\n",
       "      <td>392005</td>\n",
       "      <td>2021-07-01 10:53:36</td>\n",
       "      <td>2021-07-01 11:27:51</td>\n",
       "      <td>6.565088</td>\n",
       "      <td>3.384441</td>\n",
       "      <td>6.499696</td>\n",
       "      <td>3.350907</td>\n",
       "      <td>8.127195</td>\n",
       "      <td>2055.0</td>\n",
       "    </tr>\n",
       "    <tr>\n",
       "      <th>6</th>\n",
       "      <td>392009</td>\n",
       "      <td>2021-07-01 06:39:51</td>\n",
       "      <td>2021-07-01 07:41:12</td>\n",
       "      <td>6.663648</td>\n",
       "      <td>3.308206</td>\n",
       "      <td>6.618542</td>\n",
       "      <td>3.301634</td>\n",
       "      <td>5.040921</td>\n",
       "      <td>3681.0</td>\n",
       "    </tr>\n",
       "  </tbody>\n",
       "</table>\n",
       "</div>"
      ],
      "text/plain": [
       "   Trip ID     Trip Start Time       Trip End Time  Trip_Origin_lat  \\\n",
       "0   391996 2021-07-01 07:28:04 2021-07-01 07:29:37         6.508813   \n",
       "1   391997 2021-07-01 06:38:04 2021-07-01 07:07:28         6.431671   \n",
       "2   391998 2021-07-01 06:21:02 2021-07-01 07:02:23         6.631679   \n",
       "3   391999 2021-07-01 07:16:07 2021-07-01 07:29:42         6.572757   \n",
       "4   392001 2021-07-01 09:30:59 2021-07-01 09:34:36         6.601042   \n",
       "5   392005 2021-07-01 10:53:36 2021-07-01 11:27:51         6.565088   \n",
       "6   392009 2021-07-01 06:39:51 2021-07-01 07:41:12         6.663648   \n",
       "\n",
       "   Trip_Origin_lon  Trip_Destination_lat  Trip_Destination_lon   Distance  \\\n",
       "0         3.377403              6.650970              3.345031  16.123451   \n",
       "1         3.455538              6.428081              3.472189   1.884305   \n",
       "2         3.338898              6.508324              3.359040  13.822393   \n",
       "3         3.367708              6.584881              3.361407   1.511034   \n",
       "4         3.276634              6.450107              3.391615  20.984319   \n",
       "5         3.384441              6.499696              3.350907   8.127195   \n",
       "6         3.308206              6.618542              3.301634   5.040921   \n",
       "\n",
       "   Time taken  \n",
       "0        93.0  \n",
       "1      1764.0  \n",
       "2      2481.0  \n",
       "3       815.0  \n",
       "4       217.0  \n",
       "5      2055.0  \n",
       "6      3681.0  "
      ]
     },
     "execution_count": 30,
     "metadata": {},
     "output_type": "execute_result"
    }
   ],
   "source": [
    "df1[:7]"
   ]
  },
  {
   "attachments": {},
   "cell_type": "markdown",
   "metadata": {},
   "source": [
    "Adding an assumed average speed feature using the distance and time"
   ]
  },
  {
   "cell_type": "code",
   "execution_count": 31,
   "metadata": {},
   "outputs": [
    {
     "data": {
      "text/html": [
       "<div>\n",
       "<style scoped>\n",
       "    .dataframe tbody tr th:only-of-type {\n",
       "        vertical-align: middle;\n",
       "    }\n",
       "\n",
       "    .dataframe tbody tr th {\n",
       "        vertical-align: top;\n",
       "    }\n",
       "\n",
       "    .dataframe thead th {\n",
       "        text-align: right;\n",
       "    }\n",
       "</style>\n",
       "<table border=\"1\" class=\"dataframe\">\n",
       "  <thead>\n",
       "    <tr style=\"text-align: right;\">\n",
       "      <th></th>\n",
       "      <th>Trip ID</th>\n",
       "      <th>Trip Start Time</th>\n",
       "      <th>Trip End Time</th>\n",
       "      <th>Trip_Origin_lat</th>\n",
       "      <th>Trip_Origin_lon</th>\n",
       "      <th>Trip_Destination_lat</th>\n",
       "      <th>Trip_Destination_lon</th>\n",
       "      <th>Distance</th>\n",
       "      <th>Time taken</th>\n",
       "      <th>Speed</th>\n",
       "    </tr>\n",
       "  </thead>\n",
       "  <tbody>\n",
       "    <tr>\n",
       "      <th>0</th>\n",
       "      <td>391996</td>\n",
       "      <td>2021-07-01 07:28:04</td>\n",
       "      <td>2021-07-01 07:29:37</td>\n",
       "      <td>6.508813</td>\n",
       "      <td>3.377403</td>\n",
       "      <td>6.650970</td>\n",
       "      <td>3.345031</td>\n",
       "      <td>16.123451</td>\n",
       "      <td>93.0</td>\n",
       "      <td>173.370442</td>\n",
       "    </tr>\n",
       "    <tr>\n",
       "      <th>1</th>\n",
       "      <td>391997</td>\n",
       "      <td>2021-07-01 06:38:04</td>\n",
       "      <td>2021-07-01 07:07:28</td>\n",
       "      <td>6.431671</td>\n",
       "      <td>3.455538</td>\n",
       "      <td>6.428081</td>\n",
       "      <td>3.472189</td>\n",
       "      <td>1.884305</td>\n",
       "      <td>1764.0</td>\n",
       "      <td>1.068200</td>\n",
       "    </tr>\n",
       "    <tr>\n",
       "      <th>2</th>\n",
       "      <td>391998</td>\n",
       "      <td>2021-07-01 06:21:02</td>\n",
       "      <td>2021-07-01 07:02:23</td>\n",
       "      <td>6.631679</td>\n",
       "      <td>3.338898</td>\n",
       "      <td>6.508324</td>\n",
       "      <td>3.359040</td>\n",
       "      <td>13.822393</td>\n",
       "      <td>2481.0</td>\n",
       "      <td>5.571299</td>\n",
       "    </tr>\n",
       "    <tr>\n",
       "      <th>3</th>\n",
       "      <td>391999</td>\n",
       "      <td>2021-07-01 07:16:07</td>\n",
       "      <td>2021-07-01 07:29:42</td>\n",
       "      <td>6.572757</td>\n",
       "      <td>3.367708</td>\n",
       "      <td>6.584881</td>\n",
       "      <td>3.361407</td>\n",
       "      <td>1.511034</td>\n",
       "      <td>815.0</td>\n",
       "      <td>1.854030</td>\n",
       "    </tr>\n",
       "    <tr>\n",
       "      <th>4</th>\n",
       "      <td>392001</td>\n",
       "      <td>2021-07-01 09:30:59</td>\n",
       "      <td>2021-07-01 09:34:36</td>\n",
       "      <td>6.601042</td>\n",
       "      <td>3.276634</td>\n",
       "      <td>6.450107</td>\n",
       "      <td>3.391615</td>\n",
       "      <td>20.984319</td>\n",
       "      <td>217.0</td>\n",
       "      <td>96.701931</td>\n",
       "    </tr>\n",
       "    <tr>\n",
       "      <th>...</th>\n",
       "      <td>...</td>\n",
       "      <td>...</td>\n",
       "      <td>...</td>\n",
       "      <td>...</td>\n",
       "      <td>...</td>\n",
       "      <td>...</td>\n",
       "      <td>...</td>\n",
       "      <td>...</td>\n",
       "      <td>...</td>\n",
       "      <td>...</td>\n",
       "    </tr>\n",
       "    <tr>\n",
       "      <th>536015</th>\n",
       "      <td>1637696</td>\n",
       "      <td>2021-12-30 20:35:06</td>\n",
       "      <td>2021-12-30 21:02:59</td>\n",
       "      <td>6.448218</td>\n",
       "      <td>3.477208</td>\n",
       "      <td>6.437787</td>\n",
       "      <td>3.481670</td>\n",
       "      <td>1.254752</td>\n",
       "      <td>1673.0</td>\n",
       "      <td>0.750001</td>\n",
       "    </tr>\n",
       "    <tr>\n",
       "      <th>536016</th>\n",
       "      <td>1637702</td>\n",
       "      <td>2021-12-30 20:48:13</td>\n",
       "      <td>2021-12-30 21:43:49</td>\n",
       "      <td>6.442321</td>\n",
       "      <td>3.473687</td>\n",
       "      <td>6.436589</td>\n",
       "      <td>3.555974</td>\n",
       "      <td>9.124781</td>\n",
       "      <td>3336.0</td>\n",
       "      <td>2.735246</td>\n",
       "    </tr>\n",
       "    <tr>\n",
       "      <th>536017</th>\n",
       "      <td>1637704</td>\n",
       "      <td>2021-12-30 20:51:45</td>\n",
       "      <td>2021-12-30 21:41:32</td>\n",
       "      <td>6.428198</td>\n",
       "      <td>3.492248</td>\n",
       "      <td>6.448089</td>\n",
       "      <td>3.477575</td>\n",
       "      <td>2.733704</td>\n",
       "      <td>2987.0</td>\n",
       "      <td>0.915200</td>\n",
       "    </tr>\n",
       "    <tr>\n",
       "      <th>536018</th>\n",
       "      <td>1637705</td>\n",
       "      <td>2021-12-30 20:48:50</td>\n",
       "      <td>2021-12-30 21:08:28</td>\n",
       "      <td>6.586930</td>\n",
       "      <td>3.363297</td>\n",
       "      <td>6.637907</td>\n",
       "      <td>3.333951</td>\n",
       "      <td>6.504796</td>\n",
       "      <td>1178.0</td>\n",
       "      <td>5.521898</td>\n",
       "    </tr>\n",
       "    <tr>\n",
       "      <th>536019</th>\n",
       "      <td>1637709</td>\n",
       "      <td>2021-12-30 20:55:38</td>\n",
       "      <td>2021-12-30 22:25:00</td>\n",
       "      <td>6.647210</td>\n",
       "      <td>3.485149</td>\n",
       "      <td>6.454915</td>\n",
       "      <td>3.555840</td>\n",
       "      <td>22.657280</td>\n",
       "      <td>5362.0</td>\n",
       "      <td>4.225528</td>\n",
       "    </tr>\n",
       "  </tbody>\n",
       "</table>\n",
       "<p>536020 rows × 10 columns</p>\n",
       "</div>"
      ],
      "text/plain": [
       "        Trip ID     Trip Start Time       Trip End Time  Trip_Origin_lat  \\\n",
       "0        391996 2021-07-01 07:28:04 2021-07-01 07:29:37         6.508813   \n",
       "1        391997 2021-07-01 06:38:04 2021-07-01 07:07:28         6.431671   \n",
       "2        391998 2021-07-01 06:21:02 2021-07-01 07:02:23         6.631679   \n",
       "3        391999 2021-07-01 07:16:07 2021-07-01 07:29:42         6.572757   \n",
       "4        392001 2021-07-01 09:30:59 2021-07-01 09:34:36         6.601042   \n",
       "...         ...                 ...                 ...              ...   \n",
       "536015  1637696 2021-12-30 20:35:06 2021-12-30 21:02:59         6.448218   \n",
       "536016  1637702 2021-12-30 20:48:13 2021-12-30 21:43:49         6.442321   \n",
       "536017  1637704 2021-12-30 20:51:45 2021-12-30 21:41:32         6.428198   \n",
       "536018  1637705 2021-12-30 20:48:50 2021-12-30 21:08:28         6.586930   \n",
       "536019  1637709 2021-12-30 20:55:38 2021-12-30 22:25:00         6.647210   \n",
       "\n",
       "        Trip_Origin_lon  Trip_Destination_lat  Trip_Destination_lon  \\\n",
       "0              3.377403              6.650970              3.345031   \n",
       "1              3.455538              6.428081              3.472189   \n",
       "2              3.338898              6.508324              3.359040   \n",
       "3              3.367708              6.584881              3.361407   \n",
       "4              3.276634              6.450107              3.391615   \n",
       "...                 ...                   ...                   ...   \n",
       "536015         3.477208              6.437787              3.481670   \n",
       "536016         3.473687              6.436589              3.555974   \n",
       "536017         3.492248              6.448089              3.477575   \n",
       "536018         3.363297              6.637907              3.333951   \n",
       "536019         3.485149              6.454915              3.555840   \n",
       "\n",
       "         Distance  Time taken       Speed  \n",
       "0       16.123451        93.0  173.370442  \n",
       "1        1.884305      1764.0    1.068200  \n",
       "2       13.822393      2481.0    5.571299  \n",
       "3        1.511034       815.0    1.854030  \n",
       "4       20.984319       217.0   96.701931  \n",
       "...           ...         ...         ...  \n",
       "536015   1.254752      1673.0    0.750001  \n",
       "536016   9.124781      3336.0    2.735246  \n",
       "536017   2.733704      2987.0    0.915200  \n",
       "536018   6.504796      1178.0    5.521898  \n",
       "536019  22.657280      5362.0    4.225528  \n",
       "\n",
       "[536020 rows x 10 columns]"
      ]
     },
     "execution_count": 31,
     "metadata": {},
     "output_type": "execute_result"
    }
   ],
   "source": [
    "df1['Speed'] = (df1['Distance'] * 1000) / df1['Time taken']\n",
    "df1"
   ]
  },
  {
   "attachments": {},
   "cell_type": "markdown",
   "metadata": {},
   "source": [
    "As we can see there are several inappropriate values for the speed feature, this might be caused due to low-quality data or some other mischievous behavior performed by the pilots"
   ]
  },
  {
   "attachments": {},
   "cell_type": "markdown",
   "metadata": {},
   "source": [
    "Separating date and time features"
   ]
  },
  {
   "cell_type": "code",
   "execution_count": 32,
   "metadata": {},
   "outputs": [],
   "source": [
    "def imputeNull(x):\n",
    "    try:\n",
    "        return str(x).split(' ')[1]\n",
    "    except:\n",
    "        return 'NAN.'"
   ]
  },
  {
   "cell_type": "code",
   "execution_count": 33,
   "metadata": {},
   "outputs": [],
   "source": [
    "df1['Trip Start Date'] = df1['Trip Start Time'].apply(lambda x: str(x).split(' ')[0])\n",
    "df1['Trip End Date'] = df1['Trip End Time'].apply(lambda x: str(x).split(' ')[0])\n",
    "\n",
    "df1['Trip Start Time'] = df1['Trip Start Time'].apply(lambda x: imputeNull(x))\n",
    "df1['Trip End Time'] = df1['Trip End Time'].apply(lambda x: imputeNull(x))"
   ]
  },
  {
   "cell_type": "code",
   "execution_count": 34,
   "metadata": {},
   "outputs": [
    {
     "name": "stdout",
     "output_type": "stream",
     "text": [
      "<class 'pandas.core.frame.DataFrame'>\n",
      "RangeIndex: 536020 entries, 0 to 536019\n",
      "Data columns (total 12 columns):\n",
      " #   Column                Non-Null Count   Dtype  \n",
      "---  ------                --------------   -----  \n",
      " 0   Trip ID               536020 non-null  int64  \n",
      " 1   Trip Start Time       536020 non-null  object \n",
      " 2   Trip End Time         536020 non-null  object \n",
      " 3   Trip_Origin_lat       536020 non-null  float64\n",
      " 4   Trip_Origin_lon       536020 non-null  float64\n",
      " 5   Trip_Destination_lat  536020 non-null  float64\n",
      " 6   Trip_Destination_lon  536020 non-null  float64\n",
      " 7   Distance              536020 non-null  float64\n",
      " 8   Time taken            534368 non-null  float64\n",
      " 9   Speed                 534368 non-null  float64\n",
      " 10  Trip Start Date       536020 non-null  object \n",
      " 11  Trip End Date         536020 non-null  object \n",
      "dtypes: float64(7), int64(1), object(4)\n",
      "memory usage: 49.1+ MB\n"
     ]
    }
   ],
   "source": [
    "df1.info()"
   ]
  },
  {
   "cell_type": "code",
   "execution_count": 35,
   "metadata": {},
   "outputs": [],
   "source": [
    "df1 = cleaner.convert_to_datetime(df1, ['Trip Start Time', 'Trip End Time', 'Trip Start Date', 'Trip End Date'])"
   ]
  },
  {
   "cell_type": "code",
   "execution_count": 36,
   "metadata": {},
   "outputs": [
    {
     "name": "stdout",
     "output_type": "stream",
     "text": [
      "<class 'pandas.core.frame.DataFrame'>\n",
      "RangeIndex: 536020 entries, 0 to 536019\n",
      "Data columns (total 12 columns):\n",
      " #   Column                Non-Null Count   Dtype  \n",
      "---  ------                --------------   -----  \n",
      " 0   Trip ID               536020 non-null  int64  \n",
      " 1   Trip Start Time       536020 non-null  object \n",
      " 2   Trip End Time         536020 non-null  object \n",
      " 3   Trip_Origin_lat       536020 non-null  float64\n",
      " 4   Trip_Origin_lon       536020 non-null  float64\n",
      " 5   Trip_Destination_lat  536020 non-null  float64\n",
      " 6   Trip_Destination_lon  536020 non-null  float64\n",
      " 7   Distance              536020 non-null  float64\n",
      " 8   Time taken            534368 non-null  float64\n",
      " 9   Speed                 534368 non-null  float64\n",
      " 10  Trip Start Date       536020 non-null  object \n",
      " 11  Trip End Date         536020 non-null  object \n",
      "dtypes: float64(7), int64(1), object(4)\n",
      "memory usage: 49.1+ MB\n"
     ]
    }
   ],
   "source": [
    "df1.info()"
   ]
  },
  {
   "cell_type": "code",
   "execution_count": 37,
   "metadata": {},
   "outputs": [
    {
     "data": {
      "text/html": [
       "<div>\n",
       "<style scoped>\n",
       "    .dataframe tbody tr th:only-of-type {\n",
       "        vertical-align: middle;\n",
       "    }\n",
       "\n",
       "    .dataframe tbody tr th {\n",
       "        vertical-align: top;\n",
       "    }\n",
       "\n",
       "    .dataframe thead th {\n",
       "        text-align: right;\n",
       "    }\n",
       "</style>\n",
       "<table border=\"1\" class=\"dataframe\">\n",
       "  <thead>\n",
       "    <tr style=\"text-align: right;\">\n",
       "      <th></th>\n",
       "      <th>Trip ID</th>\n",
       "      <th>Trip Start Time</th>\n",
       "      <th>Trip End Time</th>\n",
       "      <th>Trip_Origin_lat</th>\n",
       "      <th>Trip_Origin_lon</th>\n",
       "      <th>Trip_Destination_lat</th>\n",
       "      <th>Trip_Destination_lon</th>\n",
       "      <th>Distance</th>\n",
       "      <th>Time taken</th>\n",
       "      <th>Speed</th>\n",
       "      <th>Trip Start Date</th>\n",
       "      <th>Trip End Date</th>\n",
       "    </tr>\n",
       "  </thead>\n",
       "  <tbody>\n",
       "    <tr>\n",
       "      <th>0</th>\n",
       "      <td>391996</td>\n",
       "      <td>07:28:04</td>\n",
       "      <td>07:29:37</td>\n",
       "      <td>6.508813</td>\n",
       "      <td>3.377403</td>\n",
       "      <td>6.650970</td>\n",
       "      <td>3.345031</td>\n",
       "      <td>16.123451</td>\n",
       "      <td>93.0</td>\n",
       "      <td>173.370442</td>\n",
       "      <td>2021-07-01</td>\n",
       "      <td>2021-07-01</td>\n",
       "    </tr>\n",
       "    <tr>\n",
       "      <th>1</th>\n",
       "      <td>391997</td>\n",
       "      <td>06:38:04</td>\n",
       "      <td>07:07:28</td>\n",
       "      <td>6.431671</td>\n",
       "      <td>3.455538</td>\n",
       "      <td>6.428081</td>\n",
       "      <td>3.472189</td>\n",
       "      <td>1.884305</td>\n",
       "      <td>1764.0</td>\n",
       "      <td>1.068200</td>\n",
       "      <td>2021-07-01</td>\n",
       "      <td>2021-07-01</td>\n",
       "    </tr>\n",
       "    <tr>\n",
       "      <th>2</th>\n",
       "      <td>391998</td>\n",
       "      <td>06:21:02</td>\n",
       "      <td>07:02:23</td>\n",
       "      <td>6.631679</td>\n",
       "      <td>3.338898</td>\n",
       "      <td>6.508324</td>\n",
       "      <td>3.359040</td>\n",
       "      <td>13.822393</td>\n",
       "      <td>2481.0</td>\n",
       "      <td>5.571299</td>\n",
       "      <td>2021-07-01</td>\n",
       "      <td>2021-07-01</td>\n",
       "    </tr>\n",
       "    <tr>\n",
       "      <th>3</th>\n",
       "      <td>391999</td>\n",
       "      <td>07:16:07</td>\n",
       "      <td>07:29:42</td>\n",
       "      <td>6.572757</td>\n",
       "      <td>3.367708</td>\n",
       "      <td>6.584881</td>\n",
       "      <td>3.361407</td>\n",
       "      <td>1.511034</td>\n",
       "      <td>815.0</td>\n",
       "      <td>1.854030</td>\n",
       "      <td>2021-07-01</td>\n",
       "      <td>2021-07-01</td>\n",
       "    </tr>\n",
       "    <tr>\n",
       "      <th>4</th>\n",
       "      <td>392001</td>\n",
       "      <td>09:30:59</td>\n",
       "      <td>09:34:36</td>\n",
       "      <td>6.601042</td>\n",
       "      <td>3.276634</td>\n",
       "      <td>6.450107</td>\n",
       "      <td>3.391615</td>\n",
       "      <td>20.984319</td>\n",
       "      <td>217.0</td>\n",
       "      <td>96.701931</td>\n",
       "      <td>2021-07-01</td>\n",
       "      <td>2021-07-01</td>\n",
       "    </tr>\n",
       "    <tr>\n",
       "      <th>5</th>\n",
       "      <td>392005</td>\n",
       "      <td>10:53:36</td>\n",
       "      <td>11:27:51</td>\n",
       "      <td>6.565088</td>\n",
       "      <td>3.384441</td>\n",
       "      <td>6.499696</td>\n",
       "      <td>3.350907</td>\n",
       "      <td>8.127195</td>\n",
       "      <td>2055.0</td>\n",
       "      <td>3.954839</td>\n",
       "      <td>2021-07-01</td>\n",
       "      <td>2021-07-01</td>\n",
       "    </tr>\n",
       "    <tr>\n",
       "      <th>6</th>\n",
       "      <td>392009</td>\n",
       "      <td>06:39:51</td>\n",
       "      <td>07:41:12</td>\n",
       "      <td>6.663648</td>\n",
       "      <td>3.308206</td>\n",
       "      <td>6.618542</td>\n",
       "      <td>3.301634</td>\n",
       "      <td>5.040921</td>\n",
       "      <td>3681.0</td>\n",
       "      <td>1.369443</td>\n",
       "      <td>2021-07-01</td>\n",
       "      <td>2021-07-01</td>\n",
       "    </tr>\n",
       "  </tbody>\n",
       "</table>\n",
       "</div>"
      ],
      "text/plain": [
       "   Trip ID Trip Start Time Trip End Time  Trip_Origin_lat  Trip_Origin_lon  \\\n",
       "0   391996        07:28:04      07:29:37         6.508813         3.377403   \n",
       "1   391997        06:38:04      07:07:28         6.431671         3.455538   \n",
       "2   391998        06:21:02      07:02:23         6.631679         3.338898   \n",
       "3   391999        07:16:07      07:29:42         6.572757         3.367708   \n",
       "4   392001        09:30:59      09:34:36         6.601042         3.276634   \n",
       "5   392005        10:53:36      11:27:51         6.565088         3.384441   \n",
       "6   392009        06:39:51      07:41:12         6.663648         3.308206   \n",
       "\n",
       "   Trip_Destination_lat  Trip_Destination_lon   Distance  Time taken  \\\n",
       "0              6.650970              3.345031  16.123451        93.0   \n",
       "1              6.428081              3.472189   1.884305      1764.0   \n",
       "2              6.508324              3.359040  13.822393      2481.0   \n",
       "3              6.584881              3.361407   1.511034       815.0   \n",
       "4              6.450107              3.391615  20.984319       217.0   \n",
       "5              6.499696              3.350907   8.127195      2055.0   \n",
       "6              6.618542              3.301634   5.040921      3681.0   \n",
       "\n",
       "        Speed Trip Start Date Trip End Date  \n",
       "0  173.370442      2021-07-01    2021-07-01  \n",
       "1    1.068200      2021-07-01    2021-07-01  \n",
       "2    5.571299      2021-07-01    2021-07-01  \n",
       "3    1.854030      2021-07-01    2021-07-01  \n",
       "4   96.701931      2021-07-01    2021-07-01  \n",
       "5    3.954839      2021-07-01    2021-07-01  \n",
       "6    1.369443      2021-07-01    2021-07-01  "
      ]
     },
     "execution_count": 37,
     "metadata": {},
     "output_type": "execute_result"
    }
   ],
   "source": [
    "df1[:7]"
   ]
  },
  {
   "attachments": {},
   "cell_type": "markdown",
   "metadata": {},
   "source": [
    "Adding additional features like holidays, time of day weather conditions"
   ]
  },
  {
   "cell_type": "code",
   "execution_count": 3,
   "metadata": {},
   "outputs": [],
   "source": [
    "# version of the data\n",
    "# v1: raw-data\n",
    "# v2: test\n",
    "# v3: upto speed and distance\n",
    "# v4: added holidays\n",
    "version= 'v3'\n",
    "\n",
    "# set up the data url\n",
    "data1= dvc.api.get_url(path= defs.data1,         \t # path to the data file\n",
    "\t\t               repo= defs.repo_for_nb,       # path to the repository\n",
    "\t\t               rev= version)                 # version of the data\n",
    "\n",
    "data2= dvc.api.get_url(path= defs.data2,         \t # path to the data file\n",
    "\t\t               repo= defs.repo_for_nb,       # path to the repository\n",
    "\t\t               rev= version)                 # version of the data\n",
    "\n",
    "date = ['Trip Start Date', 'Trip End Date'] # the date column name\n",
    "missing_values = [\"n/a\", \"na\", \"undefined\", '?', 'NA', 'undefined']\n",
    "\n",
    "# read CSV \n",
    "df1 = pd.read_csv(data1, na_values=missing_values, parse_dates=date)\n",
    "df2 = pd.read_csv(data2, na_values=missing_values)"
   ]
  },
  {
   "cell_type": "code",
   "execution_count": 4,
   "metadata": {},
   "outputs": [],
   "source": [
    "df1 = helper.add_holiday_feature(df1, 'Trip Start Date')"
   ]
  },
  {
   "cell_type": "code",
   "execution_count": 5,
   "metadata": {},
   "outputs": [
    {
     "data": {
      "text/html": [
       "<div>\n",
       "<style scoped>\n",
       "    .dataframe tbody tr th:only-of-type {\n",
       "        vertical-align: middle;\n",
       "    }\n",
       "\n",
       "    .dataframe tbody tr th {\n",
       "        vertical-align: top;\n",
       "    }\n",
       "\n",
       "    .dataframe thead th {\n",
       "        text-align: right;\n",
       "    }\n",
       "</style>\n",
       "<table border=\"1\" class=\"dataframe\">\n",
       "  <thead>\n",
       "    <tr style=\"text-align: right;\">\n",
       "      <th></th>\n",
       "      <th>Trip ID</th>\n",
       "      <th>Trip Start Time</th>\n",
       "      <th>Trip End Time</th>\n",
       "      <th>Trip_Origin_lat</th>\n",
       "      <th>Trip_Origin_lon</th>\n",
       "      <th>Trip_Destination_lat</th>\n",
       "      <th>Trip_Destination_lon</th>\n",
       "      <th>Distance</th>\n",
       "      <th>Time taken</th>\n",
       "      <th>Speed</th>\n",
       "      <th>Trip Start Date</th>\n",
       "      <th>Trip End Date</th>\n",
       "      <th>Holiday</th>\n",
       "    </tr>\n",
       "  </thead>\n",
       "  <tbody>\n",
       "    <tr>\n",
       "      <th>0</th>\n",
       "      <td>391996</td>\n",
       "      <td>07:28:04</td>\n",
       "      <td>07:29:37</td>\n",
       "      <td>6.508813</td>\n",
       "      <td>3.377403</td>\n",
       "      <td>6.650970</td>\n",
       "      <td>3.345031</td>\n",
       "      <td>16.123451</td>\n",
       "      <td>93.0</td>\n",
       "      <td>173.370442</td>\n",
       "      <td>2021-07-01</td>\n",
       "      <td>2021-07-01</td>\n",
       "      <td>False</td>\n",
       "    </tr>\n",
       "    <tr>\n",
       "      <th>1</th>\n",
       "      <td>391997</td>\n",
       "      <td>06:38:04</td>\n",
       "      <td>07:07:28</td>\n",
       "      <td>6.431671</td>\n",
       "      <td>3.455538</td>\n",
       "      <td>6.428081</td>\n",
       "      <td>3.472189</td>\n",
       "      <td>1.884305</td>\n",
       "      <td>1764.0</td>\n",
       "      <td>1.068200</td>\n",
       "      <td>2021-07-01</td>\n",
       "      <td>2021-07-01</td>\n",
       "      <td>False</td>\n",
       "    </tr>\n",
       "    <tr>\n",
       "      <th>2</th>\n",
       "      <td>391998</td>\n",
       "      <td>06:21:02</td>\n",
       "      <td>07:02:23</td>\n",
       "      <td>6.631679</td>\n",
       "      <td>3.338898</td>\n",
       "      <td>6.508324</td>\n",
       "      <td>3.359040</td>\n",
       "      <td>13.822393</td>\n",
       "      <td>2481.0</td>\n",
       "      <td>5.571299</td>\n",
       "      <td>2021-07-01</td>\n",
       "      <td>2021-07-01</td>\n",
       "      <td>False</td>\n",
       "    </tr>\n",
       "    <tr>\n",
       "      <th>3</th>\n",
       "      <td>391999</td>\n",
       "      <td>07:16:07</td>\n",
       "      <td>07:29:42</td>\n",
       "      <td>6.572757</td>\n",
       "      <td>3.367708</td>\n",
       "      <td>6.584881</td>\n",
       "      <td>3.361407</td>\n",
       "      <td>1.511034</td>\n",
       "      <td>815.0</td>\n",
       "      <td>1.854030</td>\n",
       "      <td>2021-07-01</td>\n",
       "      <td>2021-07-01</td>\n",
       "      <td>False</td>\n",
       "    </tr>\n",
       "    <tr>\n",
       "      <th>4</th>\n",
       "      <td>392001</td>\n",
       "      <td>09:30:59</td>\n",
       "      <td>09:34:36</td>\n",
       "      <td>6.601042</td>\n",
       "      <td>3.276634</td>\n",
       "      <td>6.450107</td>\n",
       "      <td>3.391615</td>\n",
       "      <td>20.984319</td>\n",
       "      <td>217.0</td>\n",
       "      <td>96.701931</td>\n",
       "      <td>2021-07-01</td>\n",
       "      <td>2021-07-01</td>\n",
       "      <td>False</td>\n",
       "    </tr>\n",
       "    <tr>\n",
       "      <th>5</th>\n",
       "      <td>392005</td>\n",
       "      <td>10:53:36</td>\n",
       "      <td>11:27:51</td>\n",
       "      <td>6.565088</td>\n",
       "      <td>3.384441</td>\n",
       "      <td>6.499696</td>\n",
       "      <td>3.350907</td>\n",
       "      <td>8.127195</td>\n",
       "      <td>2055.0</td>\n",
       "      <td>3.954839</td>\n",
       "      <td>2021-07-01</td>\n",
       "      <td>2021-07-01</td>\n",
       "      <td>False</td>\n",
       "    </tr>\n",
       "    <tr>\n",
       "      <th>6</th>\n",
       "      <td>392009</td>\n",
       "      <td>06:39:51</td>\n",
       "      <td>07:41:12</td>\n",
       "      <td>6.663648</td>\n",
       "      <td>3.308206</td>\n",
       "      <td>6.618542</td>\n",
       "      <td>3.301634</td>\n",
       "      <td>5.040921</td>\n",
       "      <td>3681.0</td>\n",
       "      <td>1.369443</td>\n",
       "      <td>2021-07-01</td>\n",
       "      <td>2021-07-01</td>\n",
       "      <td>False</td>\n",
       "    </tr>\n",
       "  </tbody>\n",
       "</table>\n",
       "</div>"
      ],
      "text/plain": [
       "   Trip ID Trip Start Time Trip End Time  Trip_Origin_lat  Trip_Origin_lon  \\\n",
       "0   391996        07:28:04      07:29:37         6.508813         3.377403   \n",
       "1   391997        06:38:04      07:07:28         6.431671         3.455538   \n",
       "2   391998        06:21:02      07:02:23         6.631679         3.338898   \n",
       "3   391999        07:16:07      07:29:42         6.572757         3.367708   \n",
       "4   392001        09:30:59      09:34:36         6.601042         3.276634   \n",
       "5   392005        10:53:36      11:27:51         6.565088         3.384441   \n",
       "6   392009        06:39:51      07:41:12         6.663648         3.308206   \n",
       "\n",
       "   Trip_Destination_lat  Trip_Destination_lon   Distance  Time taken  \\\n",
       "0              6.650970              3.345031  16.123451        93.0   \n",
       "1              6.428081              3.472189   1.884305      1764.0   \n",
       "2              6.508324              3.359040  13.822393      2481.0   \n",
       "3              6.584881              3.361407   1.511034       815.0   \n",
       "4              6.450107              3.391615  20.984319       217.0   \n",
       "5              6.499696              3.350907   8.127195      2055.0   \n",
       "6              6.618542              3.301634   5.040921      3681.0   \n",
       "\n",
       "        Speed Trip Start Date Trip End Date  Holiday  \n",
       "0  173.370442      2021-07-01    2021-07-01    False  \n",
       "1    1.068200      2021-07-01    2021-07-01    False  \n",
       "2    5.571299      2021-07-01    2021-07-01    False  \n",
       "3    1.854030      2021-07-01    2021-07-01    False  \n",
       "4   96.701931      2021-07-01    2021-07-01    False  \n",
       "5    3.954839      2021-07-01    2021-07-01    False  \n",
       "6    1.369443      2021-07-01    2021-07-01    False  "
      ]
     },
     "execution_count": 5,
     "metadata": {},
     "output_type": "execute_result"
    }
   ],
   "source": [
    "df1[:7]"
   ]
  },
  {
   "cell_type": "code",
   "execution_count": 6,
   "metadata": {},
   "outputs": [
    {
     "data": {
      "text/plain": [
       "False    526940\n",
       "True       9080\n",
       "Name: Holiday, dtype: int64"
      ]
     },
     "execution_count": 6,
     "metadata": {},
     "output_type": "execute_result"
    }
   ],
   "source": [
    "df1['Holiday'].value_counts()"
   ]
  },
  {
   "attachments": {},
   "cell_type": "markdown",
   "metadata": {},
   "source": [
    "Saving the first data set"
   ]
  },
  {
   "cell_type": "code",
   "execution_count": 8,
   "metadata": {},
   "outputs": [],
   "source": [
    "# df1.to_csv(defs.repo_for_nb+defs.data1, index=False)\n",
    "# saved and tracked as V4"
   ]
  },
  {
   "attachments": {},
   "cell_type": "markdown",
   "metadata": {},
   "source": [
    "### Setting up the second data frame - Deliveries"
   ]
  },
  {
   "cell_type": "code",
   "execution_count": 9,
   "metadata": {},
   "outputs": [
    {
     "data": {
      "text/html": [
       "<div>\n",
       "<style scoped>\n",
       "    .dataframe tbody tr th:only-of-type {\n",
       "        vertical-align: middle;\n",
       "    }\n",
       "\n",
       "    .dataframe tbody tr th {\n",
       "        vertical-align: top;\n",
       "    }\n",
       "\n",
       "    .dataframe thead th {\n",
       "        text-align: right;\n",
       "    }\n",
       "</style>\n",
       "<table border=\"1\" class=\"dataframe\">\n",
       "  <thead>\n",
       "    <tr style=\"text-align: right;\">\n",
       "      <th></th>\n",
       "      <th>id</th>\n",
       "      <th>order_id</th>\n",
       "      <th>driver_id</th>\n",
       "      <th>driver_action</th>\n",
       "      <th>lat</th>\n",
       "      <th>lng</th>\n",
       "      <th>created_at</th>\n",
       "      <th>updated_at</th>\n",
       "    </tr>\n",
       "  </thead>\n",
       "  <tbody>\n",
       "    <tr>\n",
       "      <th>0</th>\n",
       "      <td>1</td>\n",
       "      <td>392001</td>\n",
       "      <td>243828</td>\n",
       "      <td>accepted</td>\n",
       "      <td>6.602207</td>\n",
       "      <td>3.270465</td>\n",
       "      <td>NaN</td>\n",
       "      <td>NaN</td>\n",
       "    </tr>\n",
       "    <tr>\n",
       "      <th>1</th>\n",
       "      <td>2</td>\n",
       "      <td>392001</td>\n",
       "      <td>243588</td>\n",
       "      <td>rejected</td>\n",
       "      <td>6.592097</td>\n",
       "      <td>3.287445</td>\n",
       "      <td>NaN</td>\n",
       "      <td>NaN</td>\n",
       "    </tr>\n",
       "    <tr>\n",
       "      <th>2</th>\n",
       "      <td>3</td>\n",
       "      <td>392001</td>\n",
       "      <td>243830</td>\n",
       "      <td>rejected</td>\n",
       "      <td>6.596133</td>\n",
       "      <td>3.281784</td>\n",
       "      <td>NaN</td>\n",
       "      <td>NaN</td>\n",
       "    </tr>\n",
       "    <tr>\n",
       "      <th>3</th>\n",
       "      <td>4</td>\n",
       "      <td>392001</td>\n",
       "      <td>243539</td>\n",
       "      <td>rejected</td>\n",
       "      <td>6.596142</td>\n",
       "      <td>3.280526</td>\n",
       "      <td>NaN</td>\n",
       "      <td>NaN</td>\n",
       "    </tr>\n",
       "    <tr>\n",
       "      <th>4</th>\n",
       "      <td>5</td>\n",
       "      <td>392001</td>\n",
       "      <td>171653</td>\n",
       "      <td>rejected</td>\n",
       "      <td>6.609232</td>\n",
       "      <td>3.288800</td>\n",
       "      <td>NaN</td>\n",
       "      <td>NaN</td>\n",
       "    </tr>\n",
       "    <tr>\n",
       "      <th>5</th>\n",
       "      <td>6</td>\n",
       "      <td>392001</td>\n",
       "      <td>245662</td>\n",
       "      <td>rejected</td>\n",
       "      <td>6.593095</td>\n",
       "      <td>3.287759</td>\n",
       "      <td>NaN</td>\n",
       "      <td>NaN</td>\n",
       "    </tr>\n",
       "    <tr>\n",
       "      <th>6</th>\n",
       "      <td>7</td>\n",
       "      <td>392001</td>\n",
       "      <td>171651</td>\n",
       "      <td>rejected</td>\n",
       "      <td>6.613538</td>\n",
       "      <td>3.270779</td>\n",
       "      <td>NaN</td>\n",
       "      <td>NaN</td>\n",
       "    </tr>\n",
       "  </tbody>\n",
       "</table>\n",
       "</div>"
      ],
      "text/plain": [
       "   id  order_id  driver_id driver_action       lat       lng  created_at  \\\n",
       "0   1    392001     243828      accepted  6.602207  3.270465         NaN   \n",
       "1   2    392001     243588      rejected  6.592097  3.287445         NaN   \n",
       "2   3    392001     243830      rejected  6.596133  3.281784         NaN   \n",
       "3   4    392001     243539      rejected  6.596142  3.280526         NaN   \n",
       "4   5    392001     171653      rejected  6.609232  3.288800         NaN   \n",
       "5   6    392001     245662      rejected  6.593095  3.287759         NaN   \n",
       "6   7    392001     171651      rejected  6.613538  3.270779         NaN   \n",
       "\n",
       "   updated_at  \n",
       "0         NaN  \n",
       "1         NaN  \n",
       "2         NaN  \n",
       "3         NaN  \n",
       "4         NaN  \n",
       "5         NaN  \n",
       "6         NaN  "
      ]
     },
     "execution_count": 9,
     "metadata": {},
     "output_type": "execute_result"
    }
   ],
   "source": [
    "df2[:7]"
   ]
  },
  {
   "attachments": {},
   "cell_type": "markdown",
   "metadata": {},
   "source": [
    "Sample data from the second data frame"
   ]
  },
  {
   "cell_type": "code",
   "execution_count": 10,
   "metadata": {},
   "outputs": [
    {
     "name": "stdout",
     "output_type": "stream",
     "text": [
      "feature: created_at removed successfully\n",
      "feature: updated_at removed successfully\n"
     ]
    }
   ],
   "source": [
    "df2 = cleaner.remove_unwanted_cols(df2, ['created_at', 'updated_at'])"
   ]
  },
  {
   "attachments": {},
   "cell_type": "markdown",
   "metadata": {},
   "source": [
    "Since the two features were complexly empty, they are dropped"
   ]
  },
  {
   "cell_type": "code",
   "execution_count": 11,
   "metadata": {},
   "outputs": [
    {
     "name": "stdout",
     "output_type": "stream",
     "text": [
      "<class 'pandas.core.frame.DataFrame'>\n",
      "RangeIndex: 1557740 entries, 0 to 1557739\n",
      "Data columns (total 6 columns):\n",
      " #   Column         Non-Null Count    Dtype  \n",
      "---  ------         --------------    -----  \n",
      " 0   id             1557740 non-null  int64  \n",
      " 1   order_id       1557740 non-null  int64  \n",
      " 2   driver_id      1557740 non-null  int64  \n",
      " 3   driver_action  1557740 non-null  object \n",
      " 4   lat            1557740 non-null  float64\n",
      " 5   lng            1557740 non-null  float64\n",
      "dtypes: float64(2), int64(3), object(1)\n",
      "memory usage: 71.3+ MB\n"
     ]
    }
   ],
   "source": [
    "df2.info()"
   ]
  },
  {
   "attachments": {},
   "cell_type": "markdown",
   "metadata": {},
   "source": [
    "We have 6 features, each explaining about a specific delivery attributes"
   ]
  },
  {
   "attachments": {},
   "cell_type": "markdown",
   "metadata": {},
   "source": [
    "DRIVER ACTIONS"
   ]
  },
  {
   "cell_type": "code",
   "execution_count": 12,
   "metadata": {},
   "outputs": [
    {
     "data": {
      "text/plain": [
       "rejected    1531837\n",
       "accepted      25903\n",
       "Name: driver_action, dtype: int64"
      ]
     },
     "execution_count": 12,
     "metadata": {},
     "output_type": "execute_result"
    }
   ],
   "source": [
    "df2.driver_action.value_counts()"
   ]
  },
  {
   "attachments": {},
   "cell_type": "markdown",
   "metadata": {},
   "source": [
    "There are basically two driver actions in the data set"
   ]
  },
  {
   "cell_type": "code",
   "execution_count": 13,
   "metadata": {},
   "outputs": [
    {
     "data": {
      "image/png": "[encoded data removed]",
      "text/plain": [
       "<Figure size 432x288 with 1 Axes>"
      ]
     },
     "metadata": {},
     "output_type": "display_data"
    }
   ],
   "source": [
    "visualizer.plot_pie(df=df2, column='driver_action', title='driver actions')"
   ]
  },
  {
   "attachments": {},
   "cell_type": "markdown",
   "metadata": {},
   "source": [
    "This says a lot already. Out of the 1, 557, 740 delivery actions recorded only 25, 903 (~2%) accepted the delivery and went through\n",
    "\n",
    "The rest ~98% accepted the delivery but the delivery was not successful\n",
    "\n",
    "More investigation is required on this"
   ]
  },
  {
   "attachments": {},
   "cell_type": "markdown",
   "metadata": {},
   "source": [
    "ORDER ID"
   ]
  },
  {
   "cell_type": "code",
   "execution_count": 18,
   "metadata": {},
   "outputs": [
    {
     "data": {
      "text/plain": [
       "401129    4122\n",
       "401849    3360\n",
       "415800    2922\n",
       "418106    2617\n",
       "405195    2129\n",
       "          ... \n",
       "427525       1\n",
       "427528       1\n",
       "427537       1\n",
       "427549       1\n",
       "418710       1\n",
       "Name: order_id, Length: 26492, dtype: int64"
      ]
     },
     "execution_count": 18,
     "metadata": {},
     "output_type": "execute_result"
    }
   ],
   "source": [
    "df2.order_id.value_counts()"
   ]
  },
  {
   "cell_type": "code",
   "execution_count": 15,
   "metadata": {},
   "outputs": [
    {
     "data": {
      "text/plain": [
       "(392001, 517948)"
      ]
     },
     "execution_count": 15,
     "metadata": {},
     "output_type": "execute_result"
    }
   ],
   "source": [
    "df2.order_id.min(), df2.order_id.max()"
   ]
  },
  {
   "attachments": {},
   "cell_type": "markdown",
   "metadata": {},
   "source": [
    "There are almost around 26, 500 unique order id's in this data set\n",
    "\n",
    "392, 001 being the minimum and 517, 948 being the maximum"
   ]
  },
  {
   "cell_type": "code",
   "execution_count": 20,
   "metadata": {},
   "outputs": [
    {
     "data": {
      "text/plain": [
       "26492"
      ]
     },
     "execution_count": 20,
     "metadata": {},
     "output_type": "execute_result"
    }
   ],
   "source": [
    "len(df2.order_id.unique())"
   ]
  },
  {
   "cell_type": "code",
   "execution_count": 36,
   "metadata": {},
   "outputs": [
    {
     "data": {
      "text/plain": [
       "<AxesSubplot:>"
      ]
     },
     "execution_count": 36,
     "metadata": {},
     "output_type": "execute_result"
    },
    {
     "data": {
      "image/png": "[encoded data removed]",
      "text/plain": [
       "<Figure size 432x288 with 1 Axes>"
      ]
     },
     "metadata": {
      "needs_background": "light"
     },
     "output_type": "display_data"
    }
   ],
   "source": [
    "df2.order_id.value_counts()[:20].plot(kind='barh')"
   ]
  },
  {
   "attachments": {},
   "cell_type": "markdown",
   "metadata": {},
   "source": [
    "Some orders were attempted to be met more than the others"
   ]
  },
  {
   "attachments": {},
   "cell_type": "markdown",
   "metadata": {},
   "source": [
    "DRIVER ID"
   ]
  },
  {
   "cell_type": "code",
   "execution_count": 32,
   "metadata": {},
   "outputs": [
    {
     "data": {
      "text/plain": [
       "(121981, 247877)"
      ]
     },
     "execution_count": 32,
     "metadata": {},
     "output_type": "execute_result"
    }
   ],
   "source": [
    "df2.driver_id.min(), df2.driver_id.max(), "
   ]
  },
  {
   "cell_type": "code",
   "execution_count": 33,
   "metadata": {},
   "outputs": [
    {
     "data": {
      "text/plain": [
       "245538    6941\n",
       "243020    6447\n",
       "242971    6258\n",
       "243676    5884\n",
       "243932    5793\n",
       "          ... \n",
       "245840       1\n",
       "247182       1\n",
       "245907       1\n",
       "246082       1\n",
       "246602       1\n",
       "Name: driver_id, Length: 1213, dtype: int64"
      ]
     },
     "execution_count": 33,
     "metadata": {},
     "output_type": "execute_result"
    }
   ],
   "source": [
    "df2.driver_id.value_counts()"
   ]
  },
  {
   "attachments": {},
   "cell_type": "markdown",
   "metadata": {},
   "source": [
    "there are over 1, 200 drivers"
   ]
  },
  {
   "cell_type": "code",
   "execution_count": 37,
   "metadata": {},
   "outputs": [
    {
     "data": {
      "text/plain": [
       "<AxesSubplot:>"
      ]
     },
     "execution_count": 37,
     "metadata": {},
     "output_type": "execute_result"
    },
    {
     "data": {
      "image/png": "[encoded data removed]",
      "text/plain": [
       "<Figure size 432x288 with 1 Axes>"
      ]
     },
     "metadata": {
      "needs_background": "light"
     },
     "output_type": "display_data"
    }
   ],
   "source": [
    "df2.driver_id.value_counts()[:20].plot(kind='barh')"
   ]
  },
  {
   "attachments": {},
   "cell_type": "markdown",
   "metadata": {},
   "source": [
    "DRIVER LOCATION"
   ]
  },
  {
   "cell_type": "code",
   "execution_count": 47,
   "metadata": {},
   "outputs": [
    {
     "name": "stdout",
     "output_type": "stream",
     "text": [
      "<class 'pandas.core.frame.DataFrame'>\n",
      "RangeIndex: 1557740 entries, 0 to 1557739\n",
      "Data columns (total 2 columns):\n",
      " #   Column  Non-Null Count    Dtype  \n",
      "---  ------  --------------    -----  \n",
      " 0   lat     1557740 non-null  float64\n",
      " 1   lng     1557740 non-null  float64\n",
      "dtypes: float64(2)\n",
      "memory usage: 23.8 MB\n"
     ]
    }
   ],
   "source": [
    "df2[['lat', 'lng']].info()"
   ]
  },
  {
   "cell_type": "code",
   "execution_count": 41,
   "metadata": {},
   "outputs": [],
   "source": [
    "# mlflow.log_param('data version', version)\n",
    "# mlflow.log_param('data set 1 path', defs.data1)\n",
    "# mlflow.log_param('data set 1 shape', df1.shape)\n",
    "# #mlflow.log_param('data set 1 columns', df1.columns)\n",
    "# mlflow.log_param('data set 1 data types', df1.dtypes)\n",
    "# mlflow.log_param('data set 2 path', defs.data2)\n",
    "# mlflow.log_param('data set 2 shape', df2.shape)\n",
    "# #mlflow.log_param('data set 2 columns', df2.columns)\n",
    "# mlflow.log_param('data set 2 data types', df2.dtypes)\n",
    "\n",
    "# mlflow.end_run()"
   ]
  }
 ],
 "metadata": {
  "kernelspec": {
   "display_name": "Python 3.10.6 64-bit",
   "language": "python",
   "name": "python3"
  },
  "language_info": {
   "codemirror_mode": {
    "name": "ipython",
    "version": 3
   },
   "file_extension": ".py",
   "mimetype": "text/x-python",
   "name": "python",
   "nbconvert_exporter": "python",
   "pygments_lexer": "ipython3",
   "version": "3.10.6"
  },
  "orig_nbformat": 4,
  "vscode": {
   "interpreter": {
    "hash": "916dbcbb3f70747c44a77c7bcd40155683ae19c65e1c03b4aa3499c5328201f1"
   }
  }
 },
 "nbformat": 4,
 "nbformat_minor": 2
}
